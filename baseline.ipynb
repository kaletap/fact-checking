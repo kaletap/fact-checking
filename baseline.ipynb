{
 "cells": [
  {
   "cell_type": "code",
   "execution_count": 2,
   "metadata": {},
   "outputs": [],
   "source": [
    "import pandas as pd\n",
    "import numpy as np\n",
    "import matplotlib.pyplot as plt; plt.style.use(\"fivethirtyeight\")\n",
    "\n",
    "from sklearn.model_selection import train_test_split\n",
    "\n",
    "from sklearn.impute import SimpleImputer\n",
    "from sklearn.compose import ColumnTransformer\n",
    "\n",
    "from sklearn.linear_model import LogisticRegression\n",
    "\n",
    "from sklearn.pipeline import Pipeline\n",
    "\n",
    "from utils import get_label, evaluate, Imputer, Vectorizer, Splitter\n",
    "\n",
    "RANDOM_SEED = 42\n",
    "np.random.seed(RANDOM_SEED)"
   ]
  },
  {
   "cell_type": "code",
   "execution_count": 3,
   "metadata": {},
   "outputs": [
    {
     "name": "stdout",
     "output_type": "stream",
     "text": [
      "1s in a dataset: 8.05%\n"
     ]
    },
    {
     "data": {
      "text/html": [
       "<div>\n",
       "<style scoped>\n",
       "    .dataframe tbody tr th:only-of-type {\n",
       "        vertical-align: middle;\n",
       "    }\n",
       "\n",
       "    .dataframe tbody tr th {\n",
       "        vertical-align: top;\n",
       "    }\n",
       "\n",
       "    .dataframe thead th {\n",
       "        text-align: right;\n",
       "    }\n",
       "</style>\n",
       "<table border=\"1\" class=\"dataframe\">\n",
       "  <thead>\n",
       "    <tr style=\"text-align: right;\">\n",
       "      <th></th>\n",
       "      <th>statement</th>\n",
       "      <th>subject</th>\n",
       "      <th>speaker</th>\n",
       "      <th>speaker_job</th>\n",
       "      <th>state</th>\n",
       "      <th>party</th>\n",
       "      <th>context</th>\n",
       "    </tr>\n",
       "  </thead>\n",
       "  <tbody>\n",
       "    <tr>\n",
       "      <th>10148</th>\n",
       "      <td>Nearly 65 percent -- almost two-thirds -- of a...</td>\n",
       "      <td>immigration</td>\n",
       "      <td>jeb-bush</td>\n",
       "      <td>NaN</td>\n",
       "      <td>Florida</td>\n",
       "      <td>republican</td>\n",
       "      <td>in his book 'Immigration Wars'</td>\n",
       "    </tr>\n",
       "    <tr>\n",
       "      <th>6904</th>\n",
       "      <td>Says that except for foreign policy, Ron Pauls...</td>\n",
       "      <td>voting-record</td>\n",
       "      <td>paul-broun</td>\n",
       "      <td>Congressman</td>\n",
       "      <td>Georgia</td>\n",
       "      <td>republican</td>\n",
       "      <td>a fundraiser letter</td>\n",
       "    </tr>\n",
       "    <tr>\n",
       "      <th>1721</th>\n",
       "      <td>Ronald Reagan banned ownership of fully automa...</td>\n",
       "      <td>guns,history</td>\n",
       "      <td>alfonso-lopez</td>\n",
       "      <td>State delegate</td>\n",
       "      <td>Virginia</td>\n",
       "      <td>democrat</td>\n",
       "      <td>a floor speech.</td>\n",
       "    </tr>\n",
       "    <tr>\n",
       "      <th>5466</th>\n",
       "      <td>Americans now support strikes (against ISIS) b...</td>\n",
       "      <td>polls,terrorism</td>\n",
       "      <td>katrina-vanden-heuvel</td>\n",
       "      <td>NaN</td>\n",
       "      <td>NaN</td>\n",
       "      <td>none</td>\n",
       "      <td>a panel on ABC's \"This Week\"</td>\n",
       "    </tr>\n",
       "    <tr>\n",
       "      <th>6794</th>\n",
       "      <td>Amendment 2 will put almost 2,000 pot shops in...</td>\n",
       "      <td>florida-amendments,marijuana</td>\n",
       "      <td>vote-no-2</td>\n",
       "      <td>NaN</td>\n",
       "      <td>Florida</td>\n",
       "      <td>none</td>\n",
       "      <td>a video</td>\n",
       "    </tr>\n",
       "  </tbody>\n",
       "</table>\n",
       "</div>"
      ],
      "text/plain": [
       "                                               statement  \\\n",
       "10148  Nearly 65 percent -- almost two-thirds -- of a...   \n",
       "6904   Says that except for foreign policy, Ron Pauls...   \n",
       "1721   Ronald Reagan banned ownership of fully automa...   \n",
       "5466   Americans now support strikes (against ISIS) b...   \n",
       "6794   Amendment 2 will put almost 2,000 pot shops in...   \n",
       "\n",
       "                            subject                speaker     speaker_job  \\\n",
       "10148                   immigration               jeb-bush             NaN   \n",
       "6904                  voting-record             paul-broun     Congressman   \n",
       "1721                   guns,history          alfonso-lopez  State delegate   \n",
       "5466                polls,terrorism  katrina-vanden-heuvel             NaN   \n",
       "6794   florida-amendments,marijuana              vote-no-2             NaN   \n",
       "\n",
       "          state       party                         context  \n",
       "10148   Florida  republican  in his book 'Immigration Wars'  \n",
       "6904    Georgia  republican             a fundraiser letter  \n",
       "1721   Virginia    democrat                 a floor speech.  \n",
       "5466        NaN        none    a panel on ABC's \"This Week\"  \n",
       "6794    Florida        none                         a video  "
      ]
     },
     "execution_count": 3,
     "metadata": {},
     "output_type": "execute_result"
    }
   ],
   "source": [
    "data = pd.read_csv(\"data/train.tsv\", sep=\"\\t\")\n",
    "x_train, x_test, y_train, y_test = train_test_split(data.drop(\"label\", axis=1), get_label(data), random_state=RANDOM_SEED)\n",
    "print(\"1s in a dataset: {:.2f}%\".format(y_train.mean()*100))\n",
    "x_train.head()"
   ]
  },
  {
   "cell_type": "code",
   "execution_count": 8,
   "metadata": {},
   "outputs": [],
   "source": [
    "impute_vectorize = Pipeline([\n",
    "    (\"imputer\", Imputer), (\"vectorizer\", Vectorizer)\n",
    "])\n",
    "\n",
    "split_vectorize = Pipeline([\n",
    "    (\"splitter\", Splitter), (\"vectorizer\", Vectorizer)\n",
    "])\n",
    "\n",
    "column_transformer = ColumnTransformer([\n",
    "       (\"statement_vectorizer\", Vectorizer ,\"statement\"),\n",
    "        (\"subject_vectorizer\", split_vectorize, \"subject\"),\n",
    "        (\"job\", impute_vectorize, \"speaker_job\"),\n",
    "        (\"state\", impute_vectorize, \"state\"),\n",
    "        (\"party\", impute_vectorize, \"party\"),\n",
    "        (\"context\", impute_vectorize, \"context\")\n",
    "    ])\n",
    "\n",
    "\n",
    "pipeline = Pipeline([\n",
    "    (\"get_features\", column_transformer),\n",
    "    (\"predict\", LogisticRegression(max_iter=1000, tol=1e-6, C=0.9))\n",
    "])"
   ]
  },
  {
   "cell_type": "code",
   "execution_count": 9,
   "metadata": {},
   "outputs": [
    {
     "name": "stdout",
     "output_type": "stream",
     "text": [
      "Accuracy: 91.47\n",
      "F-1 score: 0.0837\n"
     ]
    },
    {
     "data": {
      "image/png": "[encoded data removed]",
      "text/plain": [
       "<Figure size 432x288 with 1 Axes>"
      ]
     },
     "metadata": {},
     "output_type": "display_data"
    }
   ],
   "source": [
    "pipeline.fit(x_train, y_train)\n",
    "evaluate(pipeline, x_test, y_test)"
   ]
  }
 ],
 "metadata": {
  "kernelspec": {
   "display_name": "Python 3",
   "language": "python",
   "name": "python3"
  },
  "language_info": {
   "codemirror_mode": {
    "name": "ipython",
    "version": 3
   },
   "file_extension": ".py",
   "mimetype": "text/x-python",
   "name": "python",
   "nbconvert_exporter": "python",
   "pygments_lexer": "ipython3",
   "version": "3.6.9"
  }
 },
 "nbformat": 4,
 "nbformat_minor": 4
}
