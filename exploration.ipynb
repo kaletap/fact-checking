{
 "cells": [
  {
   "cell_type": "code",
   "execution_count": 27,
   "metadata": {},
   "outputs": [],
   "source": [
    "import pandas as pd\n",
    "import numpy as np\n",
    "import matplotlib.pyplot as plt; plt.style.use(\"fivethirtyeight\")\n",
    "import seaborn as sns\n",
    "\n",
    "from sklearn.model_selection import train_test_split\n",
    "\n",
    "from utils import get_label, evaluate, Imputer, Vectorizer, Splitter\n",
    "\n",
    "RANDOM_SEED = 42\n",
    "np.random.seed(RANDOM_SEED)"
   ]
  },
  {
   "cell_type": "code",
   "execution_count": 28,
   "metadata": {},
   "outputs": [
    {
     "name": "stdout",
     "output_type": "stream",
     "text": [
      "1s in a dataset: 8.05%\n"
     ]
    },
    {
     "data": {
      "text/html": [
       "<div>\n",
       "<style scoped>\n",
       "    .dataframe tbody tr th:only-of-type {\n",
       "        vertical-align: middle;\n",
       "    }\n",
       "\n",
       "    .dataframe tbody tr th {\n",
       "        vertical-align: top;\n",
       "    }\n",
       "\n",
       "    .dataframe thead th {\n",
       "        text-align: right;\n",
       "    }\n",
       "</style>\n",
       "<table border=\"1\" class=\"dataframe\">\n",
       "  <thead>\n",
       "    <tr style=\"text-align: right;\">\n",
       "      <th></th>\n",
       "      <th>statement</th>\n",
       "      <th>subject</th>\n",
       "      <th>speaker</th>\n",
       "      <th>speaker_job</th>\n",
       "      <th>state</th>\n",
       "      <th>party</th>\n",
       "      <th>context</th>\n",
       "    </tr>\n",
       "  </thead>\n",
       "  <tbody>\n",
       "    <tr>\n",
       "      <th>10148</th>\n",
       "      <td>Nearly 65 percent -- almost two-thirds -- of a...</td>\n",
       "      <td>immigration</td>\n",
       "      <td>jeb-bush</td>\n",
       "      <td>NaN</td>\n",
       "      <td>Florida</td>\n",
       "      <td>republican</td>\n",
       "      <td>in his book 'Immigration Wars'</td>\n",
       "    </tr>\n",
       "    <tr>\n",
       "      <th>6904</th>\n",
       "      <td>Says that except for foreign policy, Ron Pauls...</td>\n",
       "      <td>voting-record</td>\n",
       "      <td>paul-broun</td>\n",
       "      <td>Congressman</td>\n",
       "      <td>Georgia</td>\n",
       "      <td>republican</td>\n",
       "      <td>a fundraiser letter</td>\n",
       "    </tr>\n",
       "    <tr>\n",
       "      <th>1721</th>\n",
       "      <td>Ronald Reagan banned ownership of fully automa...</td>\n",
       "      <td>guns,history</td>\n",
       "      <td>alfonso-lopez</td>\n",
       "      <td>State delegate</td>\n",
       "      <td>Virginia</td>\n",
       "      <td>democrat</td>\n",
       "      <td>a floor speech.</td>\n",
       "    </tr>\n",
       "    <tr>\n",
       "      <th>5466</th>\n",
       "      <td>Americans now support strikes (against ISIS) b...</td>\n",
       "      <td>polls,terrorism</td>\n",
       "      <td>katrina-vanden-heuvel</td>\n",
       "      <td>NaN</td>\n",
       "      <td>NaN</td>\n",
       "      <td>none</td>\n",
       "      <td>a panel on ABC's \"This Week\"</td>\n",
       "    </tr>\n",
       "    <tr>\n",
       "      <th>6794</th>\n",
       "      <td>Amendment 2 will put almost 2,000 pot shops in...</td>\n",
       "      <td>florida-amendments,marijuana</td>\n",
       "      <td>vote-no-2</td>\n",
       "      <td>NaN</td>\n",
       "      <td>Florida</td>\n",
       "      <td>none</td>\n",
       "      <td>a video</td>\n",
       "    </tr>\n",
       "  </tbody>\n",
       "</table>\n",
       "</div>"
      ],
      "text/plain": [
       "                                               statement  \\\n",
       "10148  Nearly 65 percent -- almost two-thirds -- of a...   \n",
       "6904   Says that except for foreign policy, Ron Pauls...   \n",
       "1721   Ronald Reagan banned ownership of fully automa...   \n",
       "5466   Americans now support strikes (against ISIS) b...   \n",
       "6794   Amendment 2 will put almost 2,000 pot shops in...   \n",
       "\n",
       "                            subject                speaker     speaker_job  \\\n",
       "10148                   immigration               jeb-bush             NaN   \n",
       "6904                  voting-record             paul-broun     Congressman   \n",
       "1721                   guns,history          alfonso-lopez  State delegate   \n",
       "5466                polls,terrorism  katrina-vanden-heuvel             NaN   \n",
       "6794   florida-amendments,marijuana              vote-no-2             NaN   \n",
       "\n",
       "          state       party                         context  \n",
       "10148   Florida  republican  in his book 'Immigration Wars'  \n",
       "6904    Georgia  republican             a fundraiser letter  \n",
       "1721   Virginia    democrat                 a floor speech.  \n",
       "5466        NaN        none    a panel on ABC's \"This Week\"  \n",
       "6794    Florida        none                         a video  "
      ]
     },
     "execution_count": 28,
     "metadata": {},
     "output_type": "execute_result"
    }
   ],
   "source": [
    "data = pd.read_csv(\"data/train.tsv\", sep=\"\\t\")\n",
    "x_train, x_test, y_train, y_test = train_test_split(data.drop(\"label\", axis=1), get_label(data), random_state=RANDOM_SEED)\n",
    "print(\"1s in a dataset: {:.2f}%\".format(y_train.mean()*100))\n",
    "x_train.head()"
   ]
  },
  {
   "cell_type": "markdown",
   "metadata": {},
   "source": [
    "# Speaker name"
   ]
  },
  {
   "cell_type": "markdown",
   "metadata": {},
   "source": [
    "## Exploration"
   ]
  },
  {
   "cell_type": "code",
   "execution_count": 29,
   "metadata": {},
   "outputs": [
    {
     "data": {
      "text/html": [
       "<div>\n",
       "<style scoped>\n",
       "    .dataframe tbody tr th:only-of-type {\n",
       "        vertical-align: middle;\n",
       "    }\n",
       "\n",
       "    .dataframe tbody tr th {\n",
       "        vertical-align: top;\n",
       "    }\n",
       "\n",
       "    .dataframe thead th {\n",
       "        text-align: right;\n",
       "    }\n",
       "</style>\n",
       "<table border=\"1\" class=\"dataframe\">\n",
       "  <thead>\n",
       "    <tr style=\"text-align: right;\">\n",
       "      <th></th>\n",
       "      <th>index</th>\n",
       "      <th>speaker</th>\n",
       "      <th>count</th>\n",
       "      <th>lies</th>\n",
       "    </tr>\n",
       "  </thead>\n",
       "  <tbody>\n",
       "    <tr>\n",
       "      <th>0</th>\n",
       "      <td>0</td>\n",
       "      <td>barack-obama</td>\n",
       "      <td>493</td>\n",
       "      <td>1.622718</td>\n",
       "    </tr>\n",
       "    <tr>\n",
       "      <th>1</th>\n",
       "      <td>1</td>\n",
       "      <td>donald-trump</td>\n",
       "      <td>274</td>\n",
       "      <td>18.978102</td>\n",
       "    </tr>\n",
       "    <tr>\n",
       "      <th>2</th>\n",
       "      <td>2</td>\n",
       "      <td>hillary-clinton</td>\n",
       "      <td>239</td>\n",
       "      <td>2.510460</td>\n",
       "    </tr>\n",
       "    <tr>\n",
       "      <th>3</th>\n",
       "      <td>3</td>\n",
       "      <td>mitt-romney</td>\n",
       "      <td>180</td>\n",
       "      <td>9.444444</td>\n",
       "    </tr>\n",
       "    <tr>\n",
       "      <th>4</th>\n",
       "      <td>4</td>\n",
       "      <td>scott-walker</td>\n",
       "      <td>150</td>\n",
       "      <td>5.333333</td>\n",
       "    </tr>\n",
       "    <tr>\n",
       "      <th>5</th>\n",
       "      <td>5</td>\n",
       "      <td>john-mccain</td>\n",
       "      <td>148</td>\n",
       "      <td>4.054054</td>\n",
       "    </tr>\n",
       "    <tr>\n",
       "      <th>6</th>\n",
       "      <td>6</td>\n",
       "      <td>chain-email</td>\n",
       "      <td>142</td>\n",
       "      <td>57.746479</td>\n",
       "    </tr>\n",
       "    <tr>\n",
       "      <th>7</th>\n",
       "      <td>7</td>\n",
       "      <td>rick-perry</td>\n",
       "      <td>142</td>\n",
       "      <td>11.267606</td>\n",
       "    </tr>\n",
       "    <tr>\n",
       "      <th>8</th>\n",
       "      <td>8</td>\n",
       "      <td>marco-rubio</td>\n",
       "      <td>117</td>\n",
       "      <td>1.709402</td>\n",
       "    </tr>\n",
       "    <tr>\n",
       "      <th>9</th>\n",
       "      <td>9</td>\n",
       "      <td>rick-scott</td>\n",
       "      <td>115</td>\n",
       "      <td>6.086957</td>\n",
       "    </tr>\n",
       "    <tr>\n",
       "      <th>10</th>\n",
       "      <td>10</td>\n",
       "      <td>ted-cruz</td>\n",
       "      <td>93</td>\n",
       "      <td>6.451613</td>\n",
       "    </tr>\n",
       "    <tr>\n",
       "      <th>11</th>\n",
       "      <td>11</td>\n",
       "      <td>bernie-s</td>\n",
       "      <td>89</td>\n",
       "      <td>0.000000</td>\n",
       "    </tr>\n",
       "    <tr>\n",
       "      <th>12</th>\n",
       "      <td>12</td>\n",
       "      <td>chris-christie</td>\n",
       "      <td>78</td>\n",
       "      <td>6.410256</td>\n",
       "    </tr>\n",
       "    <tr>\n",
       "      <th>13</th>\n",
       "      <td>13</td>\n",
       "      <td>facebook-posts</td>\n",
       "      <td>78</td>\n",
       "      <td>33.333333</td>\n",
       "    </tr>\n",
       "    <tr>\n",
       "      <th>14</th>\n",
       "      <td>14</td>\n",
       "      <td>charlie-crist</td>\n",
       "      <td>70</td>\n",
       "      <td>1.428571</td>\n",
       "    </tr>\n",
       "    <tr>\n",
       "      <th>15</th>\n",
       "      <td>15</td>\n",
       "      <td>newt-gingrich</td>\n",
       "      <td>69</td>\n",
       "      <td>14.492754</td>\n",
       "    </tr>\n",
       "    <tr>\n",
       "      <th>16</th>\n",
       "      <td>16</td>\n",
       "      <td>jeb-bush</td>\n",
       "      <td>63</td>\n",
       "      <td>1.587302</td>\n",
       "    </tr>\n",
       "    <tr>\n",
       "      <th>17</th>\n",
       "      <td>17</td>\n",
       "      <td>joe-biden</td>\n",
       "      <td>63</td>\n",
       "      <td>4.761905</td>\n",
       "    </tr>\n",
       "    <tr>\n",
       "      <th>18</th>\n",
       "      <td>18</td>\n",
       "      <td>blog-posting</td>\n",
       "      <td>59</td>\n",
       "      <td>52.542373</td>\n",
       "    </tr>\n",
       "    <tr>\n",
       "      <th>19</th>\n",
       "      <td>19</td>\n",
       "      <td>paul-ryan</td>\n",
       "      <td>56</td>\n",
       "      <td>3.571429</td>\n",
       "    </tr>\n",
       "    <tr>\n",
       "      <th>20</th>\n",
       "      <td>20</td>\n",
       "      <td>sarah-palin</td>\n",
       "      <td>52</td>\n",
       "      <td>11.538462</td>\n",
       "    </tr>\n",
       "    <tr>\n",
       "      <th>21</th>\n",
       "      <td>21</td>\n",
       "      <td>john-boehner</td>\n",
       "      <td>50</td>\n",
       "      <td>4.000000</td>\n",
       "    </tr>\n",
       "    <tr>\n",
       "      <th>22</th>\n",
       "      <td>22</td>\n",
       "      <td>rick-santorum</td>\n",
       "      <td>46</td>\n",
       "      <td>10.869565</td>\n",
       "    </tr>\n",
       "    <tr>\n",
       "      <th>23</th>\n",
       "      <td>23</td>\n",
       "      <td>national-republican-congressional-committee</td>\n",
       "      <td>46</td>\n",
       "      <td>15.217391</td>\n",
       "    </tr>\n",
       "    <tr>\n",
       "      <th>24</th>\n",
       "      <td>24</td>\n",
       "      <td>michele-bachmann</td>\n",
       "      <td>46</td>\n",
       "      <td>23.913043</td>\n",
       "    </tr>\n",
       "    <tr>\n",
       "      <th>25</th>\n",
       "      <td>25</td>\n",
       "      <td>tim-kaine</td>\n",
       "      <td>44</td>\n",
       "      <td>0.000000</td>\n",
       "    </tr>\n",
       "    <tr>\n",
       "      <th>26</th>\n",
       "      <td>26</td>\n",
       "      <td>john-kasich</td>\n",
       "      <td>43</td>\n",
       "      <td>2.325581</td>\n",
       "    </tr>\n",
       "    <tr>\n",
       "      <th>27</th>\n",
       "      <td>27</td>\n",
       "      <td>nathan-deal</td>\n",
       "      <td>43</td>\n",
       "      <td>0.000000</td>\n",
       "    </tr>\n",
       "    <tr>\n",
       "      <th>28</th>\n",
       "      <td>28</td>\n",
       "      <td>rand-paul</td>\n",
       "      <td>39</td>\n",
       "      <td>7.692308</td>\n",
       "    </tr>\n",
       "    <tr>\n",
       "      <th>29</th>\n",
       "      <td>29</td>\n",
       "      <td>debbie-wasserman-schultz</td>\n",
       "      <td>38</td>\n",
       "      <td>5.263158</td>\n",
       "    </tr>\n",
       "    <tr>\n",
       "      <th>30</th>\n",
       "      <td>30</td>\n",
       "      <td>ron-johnson</td>\n",
       "      <td>37</td>\n",
       "      <td>2.702703</td>\n",
       "    </tr>\n",
       "    <tr>\n",
       "      <th>31</th>\n",
       "      <td>31</td>\n",
       "      <td>bob-mcdonnell</td>\n",
       "      <td>37</td>\n",
       "      <td>8.108108</td>\n",
       "    </tr>\n",
       "    <tr>\n",
       "      <th>32</th>\n",
       "      <td>32</td>\n",
       "      <td>mike-huckabee</td>\n",
       "      <td>37</td>\n",
       "      <td>8.108108</td>\n",
       "    </tr>\n",
       "    <tr>\n",
       "      <th>33</th>\n",
       "      <td>33</td>\n",
       "      <td>rudy-giuliani</td>\n",
       "      <td>36</td>\n",
       "      <td>5.555556</td>\n",
       "    </tr>\n",
       "    <tr>\n",
       "      <th>34</th>\n",
       "      <td>34</td>\n",
       "      <td>rush-limbaugh</td>\n",
       "      <td>35</td>\n",
       "      <td>28.571429</td>\n",
       "    </tr>\n",
       "  </tbody>\n",
       "</table>\n",
       "</div>"
      ],
      "text/plain": [
       "    index                                      speaker  count       lies\n",
       "0       0                                 barack-obama    493   1.622718\n",
       "1       1                                 donald-trump    274  18.978102\n",
       "2       2                              hillary-clinton    239   2.510460\n",
       "3       3                                  mitt-romney    180   9.444444\n",
       "4       4                                 scott-walker    150   5.333333\n",
       "5       5                                  john-mccain    148   4.054054\n",
       "6       6                                  chain-email    142  57.746479\n",
       "7       7                                   rick-perry    142  11.267606\n",
       "8       8                                  marco-rubio    117   1.709402\n",
       "9       9                                   rick-scott    115   6.086957\n",
       "10     10                                     ted-cruz     93   6.451613\n",
       "11     11                                     bernie-s     89   0.000000\n",
       "12     12                               chris-christie     78   6.410256\n",
       "13     13                               facebook-posts     78  33.333333\n",
       "14     14                                charlie-crist     70   1.428571\n",
       "15     15                                newt-gingrich     69  14.492754\n",
       "16     16                                     jeb-bush     63   1.587302\n",
       "17     17                                    joe-biden     63   4.761905\n",
       "18     18                                 blog-posting     59  52.542373\n",
       "19     19                                    paul-ryan     56   3.571429\n",
       "20     20                                  sarah-palin     52  11.538462\n",
       "21     21                                 john-boehner     50   4.000000\n",
       "22     22                                rick-santorum     46  10.869565\n",
       "23     23  national-republican-congressional-committee     46  15.217391\n",
       "24     24                             michele-bachmann     46  23.913043\n",
       "25     25                                    tim-kaine     44   0.000000\n",
       "26     26                                  john-kasich     43   2.325581\n",
       "27     27                                  nathan-deal     43   0.000000\n",
       "28     28                                    rand-paul     39   7.692308\n",
       "29     29                     debbie-wasserman-schultz     38   5.263158\n",
       "30     30                                  ron-johnson     37   2.702703\n",
       "31     31                                bob-mcdonnell     37   8.108108\n",
       "32     32                                mike-huckabee     37   8.108108\n",
       "33     33                                rudy-giuliani     36   5.555556\n",
       "34     34                                rush-limbaugh     35  28.571429"
      ]
     },
     "execution_count": 29,
     "metadata": {},
     "output_type": "execute_result"
    },
    {
     "data": {
      "image/png": "[encoded data removed]",
      "text/plain": [
       "<Figure size 432x288 with 1 Axes>"
      ]
     },
     "metadata": {},
     "output_type": "display_data"
    }
   ],
   "source": [
    "people = data.groupby(\"speaker\").size().sort_values(ascending=False).reset_index().reset_index()\n",
    "lies = [get_label(data.loc[data.speaker == name]).mean() * 100 for name in people.speaker]\n",
    "people[\"lies\"] = lies\n",
    "people.columns = [\"index\", \"speaker\", \"count\", \"lies\"]\n",
    "\n",
    "sns.distplot(people[\"count\"])\n",
    "plt.xlim((0, 100))\n",
    "people.head(35)"
   ]
  },
  {
   "cell_type": "code",
   "execution_count": 30,
   "metadata": {},
   "outputs": [
    {
     "data": {
      "text/html": [
       "<div>\n",
       "<style scoped>\n",
       "    .dataframe tbody tr th:only-of-type {\n",
       "        vertical-align: middle;\n",
       "    }\n",
       "\n",
       "    .dataframe tbody tr th {\n",
       "        vertical-align: top;\n",
       "    }\n",
       "\n",
       "    .dataframe thead th {\n",
       "        text-align: right;\n",
       "    }\n",
       "</style>\n",
       "<table border=\"1\" class=\"dataframe\">\n",
       "  <thead>\n",
       "    <tr style=\"text-align: right;\">\n",
       "      <th></th>\n",
       "      <th>label</th>\n",
       "      <th>statement</th>\n",
       "      <th>subject</th>\n",
       "      <th>speaker</th>\n",
       "      <th>speaker_job</th>\n",
       "      <th>state</th>\n",
       "      <th>party</th>\n",
       "      <th>context</th>\n",
       "    </tr>\n",
       "  </thead>\n",
       "  <tbody>\n",
       "    <tr>\n",
       "      <th>2</th>\n",
       "      <td>false</td>\n",
       "      <td>Health care reform legislation is likely to ma...</td>\n",
       "      <td>health-care</td>\n",
       "      <td>blog-posting</td>\n",
       "      <td>NaN</td>\n",
       "      <td>NaN</td>\n",
       "      <td>none</td>\n",
       "      <td>a news release</td>\n",
       "    </tr>\n",
       "    <tr>\n",
       "      <th>12</th>\n",
       "      <td>mostly-true</td>\n",
       "      <td>The economy bled $24 billion due to the govern...</td>\n",
       "      <td>economy,federal-budget,health-care</td>\n",
       "      <td>doonesbury</td>\n",
       "      <td>NaN</td>\n",
       "      <td>NaN</td>\n",
       "      <td>none</td>\n",
       "      <td>a Doonesbury strip in the Sunday comics</td>\n",
       "    </tr>\n",
       "    <tr>\n",
       "      <th>20</th>\n",
       "      <td>mostly-true</td>\n",
       "      <td>The United States has the highest corporate ta...</td>\n",
       "      <td>corporations,taxes</td>\n",
       "      <td>eric-bolling</td>\n",
       "      <td>Co-host on Fox News Channel's \"The Five\"</td>\n",
       "      <td>NaN</td>\n",
       "      <td>none</td>\n",
       "      <td>a discussion on Fox News' \"The Five\"</td>\n",
       "    </tr>\n",
       "    <tr>\n",
       "      <th>22</th>\n",
       "      <td>half-true</td>\n",
       "      <td>Says Scott Walker favors cutting up to 350,000...</td>\n",
       "      <td>health-care,message-machine</td>\n",
       "      <td>greater-wisconsin-political-fund</td>\n",
       "      <td>NaN</td>\n",
       "      <td>Wisconsin</td>\n",
       "      <td>none</td>\n",
       "      <td>a campaign TV ad</td>\n",
       "    </tr>\n",
       "    <tr>\n",
       "      <th>23</th>\n",
       "      <td>barely-true</td>\n",
       "      <td>Says Mitt Romney wants to get rid of Planned P...</td>\n",
       "      <td>abortion,federal-budget,health-care</td>\n",
       "      <td>planned-parenthood-action-fund</td>\n",
       "      <td>Advocacy group</td>\n",
       "      <td>Washington, D.C.</td>\n",
       "      <td>none</td>\n",
       "      <td>a radio ad</td>\n",
       "    </tr>\n",
       "  </tbody>\n",
       "</table>\n",
       "</div>"
      ],
      "text/plain": [
       "          label                                          statement  \\\n",
       "2         false  Health care reform legislation is likely to ma...   \n",
       "12  mostly-true  The economy bled $24 billion due to the govern...   \n",
       "20  mostly-true  The United States has the highest corporate ta...   \n",
       "22    half-true  Says Scott Walker favors cutting up to 350,000...   \n",
       "23  barely-true  Says Mitt Romney wants to get rid of Planned P...   \n",
       "\n",
       "                                subject                           speaker  \\\n",
       "2                           health-care                      blog-posting   \n",
       "12   economy,federal-budget,health-care                        doonesbury   \n",
       "20                   corporations,taxes                      eric-bolling   \n",
       "22          health-care,message-machine  greater-wisconsin-political-fund   \n",
       "23  abortion,federal-budget,health-care    planned-parenthood-action-fund   \n",
       "\n",
       "                                 speaker_job             state party  \\\n",
       "2                                        NaN               NaN  none   \n",
       "12                                       NaN               NaN  none   \n",
       "20  Co-host on Fox News Channel's \"The Five\"               NaN  none   \n",
       "22                                       NaN         Wisconsin  none   \n",
       "23                            Advocacy group  Washington, D.C.  none   \n",
       "\n",
       "                                    context  \n",
       "2                            a news release  \n",
       "12  a Doonesbury strip in the Sunday comics  \n",
       "20     a discussion on Fox News' \"The Five\"  \n",
       "22                         a campaign TV ad  \n",
       "23                               a radio ad  "
      ]
     },
     "execution_count": 30,
     "metadata": {},
     "output_type": "execute_result"
    }
   ],
   "source": [
    "data[data.speaker ==\"blog-posting\"]\n",
    "data[data.party == \"none\"].head()\n",
    "# party może być none, ale osobą mówiącą może być osoba reputowana (nie tylko blog, facebook i inne memy)"
   ]
  },
  {
   "cell_type": "code",
   "execution_count": 31,
   "metadata": {},
   "outputs": [],
   "source": [
    "def encode_popular(name, colname, common, *, top=40):\n",
    "    encoding = np.zeros(top + 1)\n",
    "    if name in common[:top][colname].values:\n",
    "        idx = common.loc[common[colname]==name, \"index\"].values[0]\n",
    "        encoding[idx] = 1\n",
    "    else:\n",
    "        encoding[top] = 1\n",
    "    return encoding"
   ]
  },
  {
   "cell_type": "code",
   "execution_count": 32,
   "metadata": {},
   "outputs": [
    {
     "data": {
      "text/plain": [
       "array([0., 0., 0., 0., 0., 0., 0., 0., 0., 0., 0., 0., 0., 0., 0., 0., 0.,\n",
       "       0., 1., 0., 0., 0., 0., 0., 0., 0., 0., 0., 0., 0., 0., 0., 0., 0.,\n",
       "       0., 0.])"
      ]
     },
     "execution_count": 32,
     "metadata": {},
     "output_type": "execute_result"
    }
   ],
   "source": [
    "encode_popular(\"blog-posting\", \"speaker\", people, top=35)"
   ]
  },
  {
   "cell_type": "code",
   "execution_count": 33,
   "metadata": {},
   "outputs": [],
   "source": [
    "def encode_column(x_array, colname, most_popular, *, top=50):\n",
    "    if type(x_array) == pd.core.series.Series:\n",
    "        x_array = x_array.values\n",
    "    ret = []\n",
    "    for name in x_array:\n",
    "        ret.append(encode_popular(name, colname, most_popular, top=top))\n",
    "    return np.stack(ret)\n",
    "\n",
    "def encode_speaker(x_array):\n",
    "    return encode_column(x_array, \"speaker\", people)\n",
    "\n",
    "from sklearn.preprocessing import FunctionTransformer\n",
    "SpeakerEncoder = FunctionTransformer(encode_speaker)"
   ]
  },
  {
   "cell_type": "markdown",
   "metadata": {},
   "source": [
    "## Evaluation of name encoding"
   ]
  },
  {
   "cell_type": "code",
   "execution_count": 34,
   "metadata": {},
   "outputs": [],
   "source": [
    "import pandas as pd\n",
    "import numpy as np\n",
    "import matplotlib.pyplot as plt; plt.style.use(\"fivethirtyeight\")\n",
    "\n",
    "from sklearn.model_selection import train_test_split\n",
    "\n",
    "from sklearn.impute import SimpleImputer\n",
    "from sklearn.compose import ColumnTransformer\n",
    "\n",
    "from sklearn.linear_model import LogisticRegression, LogisticRegressionCV\n",
    "\n",
    "from sklearn.pipeline import Pipeline, FeatureUnion\n",
    "\n",
    "from utils import get_label, evaluate, Imputer, Vectorizer, Splitter\n",
    "\n",
    "RANDOM_SEED = 42\n",
    "np.random.seed(RANDOM_SEED)"
   ]
  },
  {
   "cell_type": "code",
   "execution_count": 35,
   "metadata": {},
   "outputs": [],
   "source": [
    "impute_vectorize = Pipeline([\n",
    "    (\"imputer\", Imputer), (\"vectorizer\", Vectorizer)\n",
    "])\n",
    "\n",
    "split_vectorize = Pipeline([\n",
    "    (\"splitter\", Splitter), (\"vectorizer\", Vectorizer)\n",
    "])\n",
    "\n",
    "column_transformer = ColumnTransformer([\n",
    "       (\"statement_vectorizer\", Vectorizer ,\"statement\"),\n",
    "        (\"subject_vectorizer\", split_vectorize, \"subject\"),\n",
    "        (\"speaker_encoder\", SpeakerEncoder, \"speaker\"),\n",
    "        (\"job\", impute_vectorize, \"speaker_job\"),\n",
    "        (\"state\", impute_vectorize, \"state\"),\n",
    "        (\"party\", impute_vectorize, \"party\"),\n",
    "        (\"context\", impute_vectorize, \"context\")\n",
    "    ])\n",
    "\n",
    "\n",
    "pipeline = Pipeline([\n",
    "    (\"get_features\", column_transformer),\n",
    "    (\"predict\", LogisticRegression(max_iter=1000, C=0.9))\n",
    "])"
   ]
  },
  {
   "cell_type": "code",
   "execution_count": 36,
   "metadata": {},
   "outputs": [
    {
     "name": "stdout",
     "output_type": "stream",
     "text": [
      "Accuracy: 91.59\n",
      "F-1 score: 0.1148\n"
     ]
    },
    {
     "data": {
      "image/png": "[encoded data removed]",
      "text/plain": [
       "<Figure size 432x288 with 1 Axes>"
      ]
     },
     "metadata": {},
     "output_type": "display_data"
    }
   ],
   "source": [
    "pipeline.fit(x_train, y_train)\n",
    "evaluate(pipeline, x_test, y_test)"
   ]
  },
  {
   "cell_type": "markdown",
   "metadata": {},
   "source": [
    "Improved F-1 score compared to baseline (quite significantly)."
   ]
  },
  {
   "cell_type": "markdown",
   "metadata": {},
   "source": [
    "# Speaker job "
   ]
  },
  {
   "cell_type": "markdown",
   "metadata": {},
   "source": [
    "## Exploration"
   ]
  },
  {
   "cell_type": "code",
   "execution_count": 37,
   "metadata": {},
   "outputs": [
    {
     "name": "stdout",
     "output_type": "stream",
     "text": [
      "(10268, 8)\n"
     ]
    },
    {
     "data": {
      "text/plain": [
       "1188"
      ]
     },
     "execution_count": 37,
     "metadata": {},
     "output_type": "execute_result"
    }
   ],
   "source": [
    "print(data.shape)\n",
    "data.speaker_job.unique().__len__()"
   ]
  },
  {
   "cell_type": "code",
   "execution_count": 38,
   "metadata": {},
   "outputs": [],
   "source": [
    "colname = \"speaker_job\"\n",
    "jobs = data.groupby(colname).size().sort_values(ascending=False).reset_index().reset_index()\n",
    "lies = [get_label(data.loc[data[colname] == name]).mean() * 100 for name in jobs[colname]]\n",
    "jobs[\"lies\"] = lies\n",
    "jobs.columns = [\"index\", colname, \"count\", \"lies\"]"
   ]
  },
  {
   "cell_type": "code",
   "execution_count": 15,
   "metadata": {},
   "outputs": [
    {
     "data": {
      "text/plain": [
       "<matplotlib.axes._subplots.AxesSubplot at 0x7f34333389e8>"
      ]
     },
     "execution_count": 15,
     "metadata": {},
     "output_type": "execute_result"
    },
    {
     "data": {
      "image/png": "[encoded data removed]",
      "text/plain": [
       "<Figure size 432x288 with 1 Axes>"
      ]
     },
     "metadata": {},
     "output_type": "display_data"
    }
   ],
   "source": [
    "jobs.head(20)\n",
    "sns.distplot(jobs[\"count\"])"
   ]
  },
  {
   "cell_type": "code",
   "execution_count": 16,
   "metadata": {},
   "outputs": [],
   "source": [
    "def encode_job(x_array):\n",
    "    return encode_column(x_array, \"speaker_job\", jobs, top=60)\n",
    "\n",
    "JobEncoder = FunctionTransformer(encode_job)"
   ]
  },
  {
   "cell_type": "code",
   "execution_count": 17,
   "metadata": {},
   "outputs": [
    {
     "data": {
      "text/plain": [
       "array([0., 0., 0., 0., 1., 0., 0., 0., 0., 0., 0., 0., 0., 0., 0., 0., 0.,\n",
       "       0., 0., 0., 0., 0., 0., 0., 0., 0., 0., 0., 0., 0., 0., 0., 0., 0.,\n",
       "       0., 0., 0., 0., 0., 0., 0.])"
      ]
     },
     "execution_count": 17,
     "metadata": {},
     "output_type": "execute_result"
    }
   ],
   "source": [
    "encode_popular(\"U.S. senator\", \"speaker_job\", jobs)"
   ]
  },
  {
   "cell_type": "markdown",
   "metadata": {},
   "source": [
    "## Evaluation of jobs encoding"
   ]
  },
  {
   "cell_type": "code",
   "execution_count": 25,
   "metadata": {},
   "outputs": [],
   "source": [
    "impute_vectorize = Pipeline([\n",
    "    (\"imputer\", Imputer), (\"vectorizer\", Vectorizer)\n",
    "])\n",
    "\n",
    "split_vectorize = Pipeline([\n",
    "    (\"splitter\", Splitter), (\"vectorizer\", Vectorizer)\n",
    "])\n",
    "\n",
    "impute_encode_job = Pipeline([\n",
    "    (\"imputer\", Imputer), (\"vectorizer\", JobEncoder)\n",
    "])\n",
    "\n",
    "column_transformer = ColumnTransformer([\n",
    "       (\"statement_vectorizer\", Vectorizer ,\"statement\"),\n",
    "        (\"subject_vectorizer\", split_vectorize, \"subject\"),\n",
    "        (\"speaker_encoder\", SpeakerEncoder, \"speaker\"),\n",
    "        (\"job\", impute_encode_job, \"speaker_job\"),\n",
    "        (\"state\", impute_vectorize, \"state\"),\n",
    "        (\"party\", impute_vectorize, \"party\"),\n",
    "        (\"context\", impute_vectorize, \"context\")\n",
    "    ])\n",
    "\n",
    "\n",
    "pipeline = Pipeline([\n",
    "    (\"get_features\", column_transformer),\n",
    "    (\"predict\", LogisticRegression(max_iter=1000, C=0.9))\n",
    "])"
   ]
  },
  {
   "cell_type": "code",
   "execution_count": 26,
   "metadata": {},
   "outputs": [
    {
     "name": "stdout",
     "output_type": "stream",
     "text": [
      "Accuracy: 91.59\n",
      "F-1 score: 0.1148\n"
     ]
    },
    {
     "data": {
      "image/png": "[encoded data removed]",
      "text/plain": [
       "<Figure size 432x288 with 1 Axes>"
      ]
     },
     "metadata": {},
     "output_type": "display_data"
    }
   ],
   "source": [
    "pipeline.fit(x_train, y_train)\n",
    "evaluate(pipeline, x_test, y_test)"
   ]
  },
  {
   "cell_type": "markdown",
   "metadata": {},
   "source": [
    "Job encoding didn't give us anything unfortunately (it's not clear wether job encoding alone improves baseline score)."
   ]
  },
  {
   "cell_type": "markdown",
   "metadata": {},
   "source": [
    "# Party"
   ]
  },
  {
   "cell_type": "code",
   "execution_count": 20,
   "metadata": {},
   "outputs": [
    {
     "data": {
      "text/plain": [
       "array(['democrat', 'none', 'republican', 'organization', 'independent',\n",
       "       'columnist', 'activist', 'talk-show-host', 'libertarian',\n",
       "       'newsmaker', 'journalist', 'labor-leader', 'state-official',\n",
       "       'business-leader', 'education-official', 'tea-party-member',\n",
       "       'green', 'liberal-party-canada', 'government-body', 'Moderate',\n",
       "       'democratic-farmer-labor', 'ocean-state-tea-party-action',\n",
       "       'constitution-party'], dtype=object)"
      ]
     },
     "execution_count": 20,
     "metadata": {},
     "output_type": "execute_result"
    }
   ],
   "source": [
    "data.party.unique()"
   ]
  }
 ],
 "metadata": {
  "kernelspec": {
   "display_name": "Python 3",
   "language": "python",
   "name": "python3"
  },
  "language_info": {
   "codemirror_mode": {
    "name": "ipython",
    "version": 3
   },
   "file_extension": ".py",
   "mimetype": "text/x-python",
   "name": "python",
   "nbconvert_exporter": "python",
   "pygments_lexer": "ipython3",
   "version": "3.6.9"
  }
 },
 "nbformat": 4,
 "nbformat_minor": 4
}
